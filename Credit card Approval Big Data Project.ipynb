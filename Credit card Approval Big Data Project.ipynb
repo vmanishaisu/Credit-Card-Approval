{
  "cells": [
    {
      "cell_type": "code",
      "execution_count": 3,
      "metadata": {
        "colab": {
          "base_uri": "https://localhost:8080/"
        },
        "id": "PlC5IIDZipH5",
        "outputId": "064bb5b0-cb1e-4565-aa9a-0eed59ef00c9"
      },
      "outputs": [
        {
          "name": "stderr",
          "output_type": "stream",
          "text": [
            "<ipython-input-3-e678f14eddeb>:20: FutureWarning: A value is trying to be set on a copy of a DataFrame or Series through chained assignment using an inplace method.\n",
            "The behavior will change in pandas 3.0. This inplace method will never work because the intermediate object on which we are setting values always behaves as a copy.\n",
            "\n",
            "For example, when doing 'df[col].method(value, inplace=True)', try using 'df.method({col: value}, inplace=True)' or df[col] = df[col].method(value) instead, to perform the operation inplace on the original object.\n",
            "\n",
            "\n",
            "  application_df['OCCUPATION_TYPE'].fillna('Unknown', inplace=True)\n"
          ]
        }
      ],
      "source": [
        " #Import necessary libraries\n",
        "import pandas as pd\n",
        "import numpy as np\n",
        "from sklearn.model_selection import train_test_split\n",
        "from sklearn.preprocessing import StandardScaler, LabelEncoder\n",
        "from sklearn.linear_model import LogisticRegression\n",
        "from sklearn.metrics import accuracy_score, classification_report, roc_auc_score\n",
        "import tensorflow as tf\n",
        "from tensorflow.keras.models import Sequential\n",
        "from tensorflow.keras.layers import Dense, Dropout\n",
        "\n",
        "application_df = pd.read_csv(\"application_record.csv\")\n",
        "credit_df = pd.read_csv(\"credit_record.csv\")\n",
        "application_df['CNT_CHILDREN'] = application_df['CNT_CHILDREN'].astype(int)\n",
        "application_df['AMT_INCOME_TOTAL'] = application_df['AMT_INCOME_TOTAL'].astype(float)\n",
        "application_df['DAYS_BIRTH'] = application_df['DAYS_BIRTH'].astype(int)\n",
        "application_df['DAYS_EMPLOYED'] = application_df['DAYS_EMPLOYED'].astype(int)\n",
        "application_df['CNT_FAM_MEMBERS'] = application_df['CNT_FAM_MEMBERS'].astype(int)\n",
        "\n",
        "application_df['OCCUPATION_TYPE'].fillna('Unknown', inplace=True)\n",
        "\n",
        "# Drop any remaining rows with missing values\n",
        "application_df.dropna(inplace=True)\n",
        "\n",
        "application_df['AGE_YEARS'] = abs(application_df['DAYS_BIRTH']) / 365\n",
        "application_df['YEARS_EMPLOYED'] = abs(application_df['DAYS_EMPLOYED']) / 365\n"
      ]
    },
    {
      "cell_type": "code",
      "execution_count": 4,
      "metadata": {
        "colab": {
          "base_uri": "https://localhost:8080/"
        },
        "id": "11VP4Gfdip06",
        "outputId": "6dbb5061-ce03-44e0-b01e-09fd62020e89"
      },
      "outputs": [
        {
          "name": "stderr",
          "output_type": "stream",
          "text": [
            "<ipython-input-4-66e6038ad07c>:21: SettingWithCopyWarning: \n",
            "A value is trying to be set on a copy of a slice from a DataFrame.\n",
            "Try using .loc[row_indexer,col_indexer] = value instead\n",
            "\n",
            "See the caveats in the documentation: https://pandas.pydata.org/pandas-docs/stable/user_guide/indexing.html#returning-a-view-versus-a-copy\n",
            "  final_df['label'] = final_df['STATUS'].apply(lambda x: 1 if x == 'approved' else 0)\n",
            "<ipython-input-4-66e6038ad07c>:24: SettingWithCopyWarning: \n",
            "A value is trying to be set on a copy of a slice from a DataFrame\n",
            "\n",
            "See the caveats in the documentation: https://pandas.pydata.org/pandas-docs/stable/user_guide/indexing.html#returning-a-view-versus-a-copy\n",
            "  final_df.drop(['ID', 'STATUS'], axis=1, inplace=True)\n"
          ]
        }
      ],
      "source": [
        "\n",
        "application_df.drop(['FLAG_MOBIL', 'DAYS_BIRTH', 'DAYS_EMPLOYED'], axis=1, inplace=True)\n",
        "\n",
        "# Process Credit Records\n",
        "credit_df['MONTHS_BALANCE'] = credit_df['MONTHS_BALANCE'].astype(int)\n",
        "credit_df['STATUS'] = credit_df['STATUS'].astype(str)\n",
        "\n",
        "credit_df = credit_df[~credit_df['STATUS'].isin(['X', 'C'])]\n",
        "\n",
        "\n",
        "joined_df = pd.merge(application_df, credit_df, on='ID', how='inner')\n",
        "\n",
        "\n",
        "final_df = joined_df[['ID', 'CODE_GENDER', 'FLAG_OWN_CAR', 'FLAG_OWN_REALTY', 'CNT_CHILDREN', 'AMT_INCOME_TOTAL',\n",
        "                      'NAME_INCOME_TYPE', 'NAME_EDUCATION_TYPE', 'NAME_FAMILY_STATUS', 'NAME_HOUSING_TYPE',\n",
        "                      'AGE_YEARS', 'YEARS_EMPLOYED', 'OCCUPATION_TYPE', 'CNT_FAM_MEMBERS', 'STATUS']]\n",
        "\n",
        "final_df['label'] = final_df['STATUS'].apply(lambda x: 1 if x == 'approved' else 0)\n",
        "\n",
        "final_df.drop(['ID', 'STATUS'], axis=1, inplace=True)\n",
        "\n",
        "categorical_cols = ['CODE_GENDER', 'FLAG_OWN_CAR', 'FLAG_OWN_REALTY', 'NAME_INCOME_TYPE',\n",
        "                    'NAME_EDUCATION_TYPE', 'NAME_FAMILY_STATUS', 'NAME_HOUSING_TYPE', 'OCCUPATION_TYPE']\n",
        "final_df = pd.get_dummies(final_df, columns=categorical_cols, drop_first=True)\n",
        "\n"
      ]
    },
    {
      "cell_type": "code",
      "execution_count": 5,
      "metadata": {
        "id": "ur8XshkVjP4L"
      },
      "outputs": [],
      "source": [
        "\n",
        "X = final_df.drop('label', axis=1)\n",
        "y = final_df['label']\n",
        "\n",
        "X_train, X_test, y_train, y_test = train_test_split(X, y, test_size=0.3, random_state=42)\n",
        "\n",
        "\n",
        "scaler = StandardScaler()\n",
        "X_train = scaler.fit_transform(X_train)\n",
        "X_test = scaler.transform(X_test)\n"
      ]
    },
    {
      "cell_type": "code",
      "execution_count": 7,
      "metadata": {
        "colab": {
          "base_uri": "https://localhost:8080/"
        },
        "id": "TBNIo_wUjX5c",
        "outputId": "3c079cfd-031d-4d54-c61e-db2cb9ed50f3"
      },
      "outputs": [
        {
          "name": "stderr",
          "output_type": "stream",
          "text": [
            "/usr/local/lib/python3.10/dist-packages/keras/src/layers/core/dense.py:87: UserWarning: Do not pass an `input_shape`/`input_dim` argument to a layer. When using Sequential models, prefer using an `Input(shape)` object as the first layer in the model instead.\n",
            "  super().__init__(activity_regularizer=activity_regularizer, **kwargs)\n"
          ]
        }
      ],
      "source": [
        "\n",
        "nn_model = Sequential([\n",
        "    Dense(64, input_shape=(X_train.shape[1],), activation='relu'),\n",
        "    Dropout(0.3),\n",
        "    Dense(32, activation='relu'),\n",
        "    Dropout(0.3),\n",
        "    Dense(1, activation='sigmoid')\n",
        "])\n",
        "\n"
      ]
    },
    {
      "cell_type": "code",
      "execution_count": 11,
      "metadata": {
        "id": "LGayQ4ZLjgPk"
      },
      "outputs": [],
      "source": [
        "\n",
        "import pandas as pd\n",
        "from sklearn.model_selection import train_test_split\n",
        "from sklearn.metrics import classification_report, accuracy_score\n",
        "from imblearn.over_sampling import SMOTE\n",
        "from xgboost import XGBClassifier\n",
        "\n",
        "\n",
        "application_data = pd.read_csv('/content/application_record.csv')\n",
        "credit_data = pd.read_csv('/content/credit_record.csv')\n",
        "\n",
        "\n",
        "merged_data = pd.merge(application_data, credit_data, on='ID', how='left')\n",
        "\n",
        "merged_data['Delinquency'] = merged_data['STATUS'].apply(lambda x: 1 if x in ['2', '3', '4', '5'] else 0)\n",
        "\n",
        "target_data = merged_data.groupby('ID')['Delinquency'].max().reset_index()\n",
        "final_data = pd.merge(application_data, target_data, on='ID', how='left')\n",
        "\n",
        "final_data['Delinquency'] = final_data['Delinquency'].fillna(0)\n",
        "\n",
        "final_data = final_data.drop(['ID', 'NAME_INCOME_TYPE', 'NAME_EDUCATION_TYPE',\n",
        "                              'NAME_FAMILY_STATUS', 'NAME_HOUSING_TYPE', 'OCCUPATION_TYPE'], axis=1)\n",
        "\n",
        "\n",
        "final_data = pd.get_dummies(final_data, drop_first=True)\n",
        "final_data.dropna(inplace=True)\n",
        "\n"
      ]
    },
    {
      "cell_type": "code",
      "execution_count": 12,
      "metadata": {
        "id": "StUEaqUNj9lY"
      },
      "outputs": [],
      "source": [
        "\n",
        "X = final_data.drop('Delinquency', axis=1)\n",
        "y = final_data['Delinquency']\n",
        "\n",
        "smote = SMOTE(random_state=42)\n",
        "X_resampled, y_resampled = smote.fit_resample(X, y)\n",
        "\n",
        "X_train, X_test, y_train, y_test = train_test_split(X_resampled, y_resampled, test_size=0.3, random_state=42)\n",
        "\n",
        "xgb_model = XGBClassifier(\n",
        "    scale_pos_weight=len(y_train[y_train == 0]) / len(y_train[y_train == 1]),\n",
        "    objective='binary:logistic',\n",
        "    eval_metric='logloss',\n",
        "    use_label_encoder=False,\n",
        "    n_estimators=500,\n",
        "    learning_rate=0.1,\n",
        "    max_depth=6,\n",
        "    random_state=42\n",
        ")\n",
        "\n"
      ]
    },
    {
      "cell_type": "code",
      "execution_count": 14,
      "metadata": {
        "colab": {
          "base_uri": "https://localhost:8080/"
        },
        "id": "uFSjHKVZkZU2",
        "outputId": "6e8552dd-e579-4a56-8c53-0b5eabb0184b"
      },
      "outputs": [
        {
          "name": "stderr",
          "output_type": "stream",
          "text": [
            "/usr/local/lib/python3.10/dist-packages/xgboost/core.py:158: UserWarning: [20:59:59] WARNING: /workspace/src/learner.cc:740: \n",
            "Parameters: { \"use_label_encoder\" } are not used.\n",
            "\n",
            "  warnings.warn(smsg, UserWarning)\n"
          ]
        },
        {
          "name": "stdout",
          "output_type": "stream",
          "text": [
            "Random forest acuracy: 0.9764999143721577\n",
            "Classification Report:\n",
            "               precision    recall  f1-score   support\n",
            "\n",
            "           0       0.98      0.97      0.98    131337\n",
            "           1       0.97      0.98      0.98    131428\n",
            "\n",
            "    accuracy                           0.98    262765\n",
            "   macro avg       0.98      0.98      0.98    262765\n",
            "weighted avg       0.98      0.98      0.98    262765\n",
            "\n",
            "Predicted results saved to 'predicted_results_xgb.csv'\n"
          ]
        }
      ],
      "source": [
        "\n",
        "xgb_model.fit(X_train, y_train)\n",
        "\n",
        "y_pred_xgb = xgb_model.predict(X_test)\n",
        "\n",
        "accuracy_xgb = accuracy_score(y_test, y_pred_xgb)\n",
        "classification_rep_xgb = classification_report(y_test, y_pred_xgb)\n",
        "\n",
        "print(\"Random forest acuracy:\", accuracy_xgb)\n",
        "print(\"Classification Report:\\n\", classification_rep_xgb)\n",
        "\n",
        "results = X_test.copy()\n",
        "results['Actual Delinquency'] = y_test.values\n",
        "results['Predicted Delinquency'] = y_pred_xgb"
      ]
    },
    {
      "cell_type": "code",
      "execution_count": 16,
      "metadata": {
        "colab": {
          "base_uri": "https://localhost:8080/"
        },
        "id": "CaXZXVZOlMdH",
        "outputId": "b3ac1247-39df-4a9a-90c3-0154cc3a1f04"
      },
      "outputs": [
        {
          "name": "stderr",
          "output_type": "stream",
          "text": [
            "/usr/local/lib/python3.10/dist-packages/xgboost/core.py:158: UserWarning: [21:03:14] WARNING: /workspace/src/learner.cc:740: \n",
            "Parameters: { \"use_label_encoder\" } are not used.\n",
            "\n",
            "  warnings.warn(smsg, UserWarning)\n"
          ]
        },
        {
          "name": "stdout",
          "output_type": "stream",
          "text": [
            "Random forest Accuracy: 0.8614004665215449\n",
            "Classification Report:\n",
            "               precision    recall  f1-score   support\n",
            "\n",
            "           0       0.84      0.89      0.86    121904\n",
            "           1       0.88      0.83      0.86    122029\n",
            "\n",
            "    accuracy                           0.86    243933\n",
            "   macro avg       0.86      0.86      0.86    243933\n",
            "weighted avg       0.86      0.86      0.86    243933\n",
            "\n",
            "Predicted results saved to 'predicted_results_xgb.csv'\n"
          ]
        }
      ],
      "source": [
        "import pandas as pd\n",
        "from sklearn.model_selection import train_test_split\n",
        "from sklearn.metrics import classification_report, accuracy_score\n",
        "from imblearn.over_sampling import SMOTE\n",
        "from xgboost import XGBClassifier\n",
        "\n",
        "\n",
        "application_data = pd.read_csv('/content/application_record.csv')\n",
        "credit_data = pd.read_csv('/content/credit_record.csv')\n",
        "\n",
        "merged_data = pd.merge(application_data, credit_data, on='ID', how='left')\n",
        "\n",
        "merged_data['Delinquency'] = merged_data['STATUS'].apply(lambda x: 1 if x in ['0','1','2', '3', '4', '5'] else 0)\n",
        "\n",
        "target_data = merged_data.groupby('ID')['Delinquency'].max().reset_index()\n",
        "final_data = pd.merge(application_data, target_data, on='ID', how='left')\n",
        "\n",
        "final_data['Delinquency'] = final_data['Delinquency'].fillna(0)\n",
        "\n",
        "final_data = final_data.drop(['ID', 'NAME_INCOME_TYPE', 'NAME_EDUCATION_TYPE',\n",
        "                              'NAME_FAMILY_STATUS', 'NAME_HOUSING_TYPE', 'OCCUPATION_TYPE'], axis=1)\n",
        "\n",
        "final_data = pd.get_dummies(final_data, drop_first=True)\n",
        "final_data.dropna(inplace=True)\n",
        "\n",
        "X = final_data.drop('Delinquency', axis=1)\n",
        "y = final_data['Delinquency']\n",
        "\n",
        "smote = SMOTE(random_state=42)\n",
        "X_resampled, y_resampled = smote.fit_resample(X, y)\n",
        "\n",
        "X_train, X_test, y_train, y_test = train_test_split(X_resampled, y_resampled, test_size=0.3, random_state=0)\n",
        "\n",
        "xgb_model = XGBClassifier(\n",
        "    scale_pos_weight=len(y_train[y_train == 0]) / len(y_train[y_train == 1]),\n",
        "    objective='binary:logistic',\n",
        "    eval_metric='logloss',\n",
        "    use_label_encoder=False,\n",
        "    n_estimators=800,\n",
        "    learning_rate=0.1,\n",
        "    max_depth=6,\n",
        "    random_state=42\n",
        ")\n",
        "\n",
        "\n",
        "xgb_model.fit(X_train, y_train)\n",
        "\n",
        "y_pred_xgb = xgb_model.predict(X_test)\n",
        "\n",
        "accuracy_xgb = accuracy_score(y_test, y_pred_xgb)\n",
        "classification_rep_xgb = classification_report(y_test, y_pred_xgb)\n",
        "\n",
        "print(\"Random forest Accuracy:\", accuracy_xgb)\n",
        "print(\"Classification Report:\\n\", classification_rep_xgb)\n",
        "\n",
        "results = X_test.copy()\n",
        "results['Actual Delinquency'] = y_test.values\n",
        "results['Predicted Delinquency'] = y_pred_xgb\n"
      ]
    },
    {
      "cell_type": "code",
      "execution_count": null,
      "metadata": {
        "id": "KjnrINlllUAZ"
      },
      "outputs": [],
      "source": []
    }
  ],
  "metadata": {
    "colab": {
      "name": "Welcome To Colab",
      "provenance": []
    },
    "kernelspec": {
      "display_name": "Python 3",
      "name": "python3"
    }
  },
  "nbformat": 4,
  "nbformat_minor": 0
}
